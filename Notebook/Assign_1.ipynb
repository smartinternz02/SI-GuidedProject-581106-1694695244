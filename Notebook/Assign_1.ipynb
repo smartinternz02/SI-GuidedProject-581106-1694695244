{
 "cells": [
  {
   "cell_type": "markdown",
   "metadata": {},
   "source": [
    "<h1>Name:Arpit Aditya</h1>\n",
    "<h2>Roll No:21BCE8700</h2>\n",
    "<h3>Section:Smart Internez Assign</h3>"
   ]
  },
  {
   "cell_type": "code",
   "execution_count": 97,
   "metadata": {},
   "outputs": [],
   "source": [
    "import pandas as pd\n",
    "import numpy as np\n",
    "import matplotlib.pyplot as plt"
   ]
  },
  {
   "cell_type": "code",
   "execution_count": 98,
   "metadata": {},
   "outputs": [
    {
     "data": {
      "text/html": [
       "<div>\n",
       "<style scoped>\n",
       "    .dataframe tbody tr th:only-of-type {\n",
       "        vertical-align: middle;\n",
       "    }\n",
       "\n",
       "    .dataframe tbody tr th {\n",
       "        vertical-align: top;\n",
       "    }\n",
       "\n",
       "    .dataframe thead th {\n",
       "        text-align: right;\n",
       "    }\n",
       "</style>\n",
       "<table border=\"1\" class=\"dataframe\">\n",
       "  <thead>\n",
       "    <tr style=\"text-align: right;\">\n",
       "      <th></th>\n",
       "      <th>A</th>\n",
       "      <th>B</th>\n",
       "      <th>C</th>\n",
       "      <th>D</th>\n",
       "    </tr>\n",
       "  </thead>\n",
       "  <tbody>\n",
       "    <tr>\n",
       "      <th>0</th>\n",
       "      <td>0.751554</td>\n",
       "      <td>0.686288</td>\n",
       "      <td>0.956623</td>\n",
       "      <td>0.728394</td>\n",
       "    </tr>\n",
       "    <tr>\n",
       "      <th>1</th>\n",
       "      <td>0.003206</td>\n",
       "      <td>0.797169</td>\n",
       "      <td>NaN</td>\n",
       "      <td>0.153174</td>\n",
       "    </tr>\n",
       "    <tr>\n",
       "      <th>2</th>\n",
       "      <td>0.995318</td>\n",
       "      <td>0.005456</td>\n",
       "      <td>0.782088</td>\n",
       "      <td>0.882045</td>\n",
       "    </tr>\n",
       "    <tr>\n",
       "      <th>3</th>\n",
       "      <td>0.751148</td>\n",
       "      <td>0.968237</td>\n",
       "      <td>0.054956</td>\n",
       "      <td>0.414703</td>\n",
       "    </tr>\n",
       "  </tbody>\n",
       "</table>\n",
       "</div>"
      ],
      "text/plain": [
       "          A         B         C         D\n",
       "0  0.751554  0.686288  0.956623  0.728394\n",
       "1  0.003206  0.797169       NaN  0.153174\n",
       "2  0.995318  0.005456  0.782088  0.882045\n",
       "3  0.751148  0.968237  0.054956  0.414703"
      ]
     },
     "metadata": {},
     "output_type": "display_data"
    }
   ],
   "source": [
    "# Creating a random array of 4x4 and converting it into a dataframe\n",
    "val=np.random.rand(4,4)\n",
    "val[1,2]=np.nan\n",
    "df=pd.DataFrame(val,columns=['A','B','C','D'])\n",
    "display(df)\n"
   ]
  },
  {
   "cell_type": "code",
   "execution_count": 99,
   "metadata": {},
   "outputs": [
    {
     "data": {
      "text/html": [
       "<div>\n",
       "<style scoped>\n",
       "    .dataframe tbody tr th:only-of-type {\n",
       "        vertical-align: middle;\n",
       "    }\n",
       "\n",
       "    .dataframe tbody tr th {\n",
       "        vertical-align: top;\n",
       "    }\n",
       "\n",
       "    .dataframe thead th {\n",
       "        text-align: right;\n",
       "    }\n",
       "</style>\n",
       "<table border=\"1\" class=\"dataframe\">\n",
       "  <thead>\n",
       "    <tr style=\"text-align: right;\">\n",
       "      <th></th>\n",
       "      <th>Random_Value_1</th>\n",
       "      <th>Random_Value_2</th>\n",
       "      <th>Random_Value_3</th>\n",
       "      <th>Random_Value_4</th>\n",
       "    </tr>\n",
       "  </thead>\n",
       "  <tbody>\n",
       "    <tr>\n",
       "      <th>0</th>\n",
       "      <td>0.751554</td>\n",
       "      <td>0.686288</td>\n",
       "      <td>0.956623</td>\n",
       "      <td>0.728394</td>\n",
       "    </tr>\n",
       "    <tr>\n",
       "      <th>1</th>\n",
       "      <td>0.003206</td>\n",
       "      <td>0.797169</td>\n",
       "      <td>NaN</td>\n",
       "      <td>0.153174</td>\n",
       "    </tr>\n",
       "    <tr>\n",
       "      <th>2</th>\n",
       "      <td>0.995318</td>\n",
       "      <td>0.005456</td>\n",
       "      <td>0.782088</td>\n",
       "      <td>0.882045</td>\n",
       "    </tr>\n",
       "    <tr>\n",
       "      <th>3</th>\n",
       "      <td>0.751148</td>\n",
       "      <td>0.968237</td>\n",
       "      <td>0.054956</td>\n",
       "      <td>0.414703</td>\n",
       "    </tr>\n",
       "  </tbody>\n",
       "</table>\n",
       "</div>"
      ],
      "text/plain": [
       "   Random_Value_1  Random_Value_2  Random_Value_3  Random_Value_4\n",
       "0        0.751554        0.686288        0.956623        0.728394\n",
       "1        0.003206        0.797169             NaN        0.153174\n",
       "2        0.995318        0.005456        0.782088        0.882045\n",
       "3        0.751148        0.968237        0.054956        0.414703"
      ]
     },
     "metadata": {},
     "output_type": "display_data"
    }
   ],
   "source": [
    "# Renaming the columns of the dataframe\n",
    "Val=\"Random_Value\"\n",
    "df.rename(columns={'A':f\"{Val}_1\",'B':f\"{Val}_2\",'C':f\"{Val}_3\",'D':f\"{Val}_4\"},inplace=True)\n",
    "display(df)"
   ]
  },
  {
   "cell_type": "code",
   "execution_count": 100,
   "metadata": {},
   "outputs": [
    {
     "data": {
      "text/html": [
       "<div>\n",
       "<style scoped>\n",
       "    .dataframe tbody tr th:only-of-type {\n",
       "        vertical-align: middle;\n",
       "    }\n",
       "\n",
       "    .dataframe tbody tr th {\n",
       "        vertical-align: top;\n",
       "    }\n",
       "\n",
       "    .dataframe thead th {\n",
       "        text-align: right;\n",
       "    }\n",
       "</style>\n",
       "<table border=\"1\" class=\"dataframe\">\n",
       "  <thead>\n",
       "    <tr style=\"text-align: right;\">\n",
       "      <th></th>\n",
       "      <th>Random_Value_1</th>\n",
       "      <th>Random_Value_2</th>\n",
       "      <th>Random_Value_3</th>\n",
       "      <th>Random_Value_4</th>\n",
       "    </tr>\n",
       "  </thead>\n",
       "  <tbody>\n",
       "    <tr>\n",
       "      <th>count</th>\n",
       "      <td>4.000000</td>\n",
       "      <td>4.000000</td>\n",
       "      <td>3.000000</td>\n",
       "      <td>4.000000</td>\n",
       "    </tr>\n",
       "    <tr>\n",
       "      <th>mean</th>\n",
       "      <td>0.625306</td>\n",
       "      <td>0.614288</td>\n",
       "      <td>0.597889</td>\n",
       "      <td>0.544579</td>\n",
       "    </tr>\n",
       "    <tr>\n",
       "      <th>std</th>\n",
       "      <td>0.430384</td>\n",
       "      <td>0.422132</td>\n",
       "      <td>0.478224</td>\n",
       "      <td>0.325442</td>\n",
       "    </tr>\n",
       "    <tr>\n",
       "      <th>min</th>\n",
       "      <td>0.003206</td>\n",
       "      <td>0.005456</td>\n",
       "      <td>0.054956</td>\n",
       "      <td>0.153174</td>\n",
       "    </tr>\n",
       "    <tr>\n",
       "      <th>25%</th>\n",
       "      <td>0.564162</td>\n",
       "      <td>0.516080</td>\n",
       "      <td>0.418522</td>\n",
       "      <td>0.349321</td>\n",
       "    </tr>\n",
       "    <tr>\n",
       "      <th>50%</th>\n",
       "      <td>0.751351</td>\n",
       "      <td>0.741729</td>\n",
       "      <td>0.782088</td>\n",
       "      <td>0.571549</td>\n",
       "    </tr>\n",
       "    <tr>\n",
       "      <th>75%</th>\n",
       "      <td>0.812495</td>\n",
       "      <td>0.839936</td>\n",
       "      <td>0.869356</td>\n",
       "      <td>0.766807</td>\n",
       "    </tr>\n",
       "    <tr>\n",
       "      <th>max</th>\n",
       "      <td>0.995318</td>\n",
       "      <td>0.968237</td>\n",
       "      <td>0.956623</td>\n",
       "      <td>0.882045</td>\n",
       "    </tr>\n",
       "  </tbody>\n",
       "</table>\n",
       "</div>"
      ],
      "text/plain": [
       "       Random_Value_1  Random_Value_2  Random_Value_3  Random_Value_4\n",
       "count        4.000000        4.000000        3.000000        4.000000\n",
       "mean         0.625306        0.614288        0.597889        0.544579\n",
       "std          0.430384        0.422132        0.478224        0.325442\n",
       "min          0.003206        0.005456        0.054956        0.153174\n",
       "25%          0.564162        0.516080        0.418522        0.349321\n",
       "50%          0.751351        0.741729        0.782088        0.571549\n",
       "75%          0.812495        0.839936        0.869356        0.766807\n",
       "max          0.995318        0.968237        0.956623        0.882045"
      ]
     },
     "metadata": {},
     "output_type": "display_data"
    }
   ],
   "source": [
    "#Descriptive Statistics\n",
    "display(df.describe())"
   ]
  },
  {
   "cell_type": "code",
   "execution_count": 101,
   "metadata": {},
   "outputs": [
    {
     "data": {
      "text/html": [
       "<div>\n",
       "<style scoped>\n",
       "    .dataframe tbody tr th:only-of-type {\n",
       "        vertical-align: middle;\n",
       "    }\n",
       "\n",
       "    .dataframe tbody tr th {\n",
       "        vertical-align: top;\n",
       "    }\n",
       "\n",
       "    .dataframe thead th {\n",
       "        text-align: right;\n",
       "    }\n",
       "</style>\n",
       "<table border=\"1\" class=\"dataframe\">\n",
       "  <thead>\n",
       "    <tr style=\"text-align: right;\">\n",
       "      <th></th>\n",
       "      <th>Random_Value_1</th>\n",
       "      <th>Random_Value_2</th>\n",
       "      <th>Random_Value_3</th>\n",
       "      <th>Random_Value_4</th>\n",
       "    </tr>\n",
       "  </thead>\n",
       "  <tbody>\n",
       "    <tr>\n",
       "      <th>0</th>\n",
       "      <td>False</td>\n",
       "      <td>False</td>\n",
       "      <td>False</td>\n",
       "      <td>False</td>\n",
       "    </tr>\n",
       "    <tr>\n",
       "      <th>1</th>\n",
       "      <td>False</td>\n",
       "      <td>False</td>\n",
       "      <td>True</td>\n",
       "      <td>False</td>\n",
       "    </tr>\n",
       "    <tr>\n",
       "      <th>2</th>\n",
       "      <td>False</td>\n",
       "      <td>False</td>\n",
       "      <td>False</td>\n",
       "      <td>False</td>\n",
       "    </tr>\n",
       "    <tr>\n",
       "      <th>3</th>\n",
       "      <td>False</td>\n",
       "      <td>False</td>\n",
       "      <td>False</td>\n",
       "      <td>False</td>\n",
       "    </tr>\n",
       "  </tbody>\n",
       "</table>\n",
       "</div>"
      ],
      "text/plain": [
       "   Random_Value_1  Random_Value_2  Random_Value_3  Random_Value_4\n",
       "0           False           False           False           False\n",
       "1           False           False            True           False\n",
       "2           False           False           False           False\n",
       "3           False           False           False           False"
      ]
     },
     "metadata": {},
     "output_type": "display_data"
    },
    {
     "data": {
      "text/plain": [
       "Random_Value_1    0\n",
       "Random_Value_2    0\n",
       "Random_Value_3    1\n",
       "Random_Value_4    0\n",
       "dtype: int64"
      ]
     },
     "metadata": {},
     "output_type": "display_data"
    }
   ],
   "source": [
    "#Checking for null values\n",
    "display(df.isnull())\n",
    "display(df.isnull().sum())\n",
    "#replace null values with 0\n",
    "# df.fillna(0,inplace=True)"
   ]
  },
  {
   "cell_type": "code",
   "execution_count": 102,
   "metadata": {},
   "outputs": [
    {
     "data": {
      "text/plain": [
       "Random_Value_1    float64\n",
       "Random_Value_2    float64\n",
       "Random_Value_3    float64\n",
       "Random_Value_4    float64\n",
       "dtype: object"
      ]
     },
     "metadata": {},
     "output_type": "display_data"
    }
   ],
   "source": [
    "# Finding datatypes of column\n",
    "display(df.dtypes)"
   ]
  },
  {
   "cell_type": "code",
   "execution_count": 103,
   "metadata": {},
   "outputs": [
    {
     "data": {
      "text/plain": [
       "0    0.686288\n",
       "1    0.797169\n",
       "2    0.005456\n",
       "3    0.968237\n",
       "Name: Random_Value_2, dtype: float64"
      ]
     },
     "metadata": {},
     "output_type": "display_data"
    },
    {
     "data": {
      "text/plain": [
       "0    0.956623\n",
       "1         NaN\n",
       "2    0.782088\n",
       "3    0.054956\n",
       "Name: Random_Value_3, dtype: float64"
      ]
     },
     "metadata": {},
     "output_type": "display_data"
    },
    {
     "data": {
      "text/plain": [
       "0    0.686288\n",
       "1    0.797169\n",
       "2    0.005456\n",
       "3    0.968237\n",
       "Name: Random_Value_2, dtype: float64"
      ]
     },
     "metadata": {},
     "output_type": "display_data"
    },
    {
     "data": {
      "text/plain": [
       "0    0.956623\n",
       "1         NaN\n",
       "2    0.782088\n",
       "3    0.054956\n",
       "Name: Random_Value_3, dtype: float64"
      ]
     },
     "metadata": {},
     "output_type": "display_data"
    }
   ],
   "source": [
    "# Index Location\n",
    "display(df.iloc[:,1])\n",
    "display(df.iloc[:,2])\n",
    "# Location by column name\n",
    "display(df.loc[:,'Random_Value_2'])\n",
    "display(df.loc[:,'Random_Value_3'])"
   ]
  },
  {
   "cell_type": "markdown",
   "metadata": {},
   "source": [
    "<h2 style=\"color:Red\">Assignment 2</hw>"
   ]
  },
  {
   "cell_type": "code",
   "execution_count": 104,
   "metadata": {},
   "outputs": [
    {
     "name": "stdout",
     "output_type": "stream",
     "text": [
      "          A         B         C         D         E\n",
      "0  0.360436  0.433614  0.312058  0.383004  0.297754\n",
      "1  0.028404  0.298206       NaN  0.119028  0.581500\n",
      "2  0.582183  0.156048  0.242483  0.815540  0.460389\n",
      "3  0.254617  0.945861  0.354936  0.962532  0.283699\n",
      "4  0.046822  0.326573  0.265029  0.984936  0.208637\n",
      "5  0.863215  0.483557  0.731282  0.433527  0.756969\n",
      "6  0.918555  0.332854  0.327234  0.467258  0.697382\n",
      "7  0.108692  0.380389  0.896663  0.676804  0.030092\n",
      "8  0.724264  0.890996  0.020625  0.840556  0.100078\n",
      "9  0.376189  0.568317  0.476071  0.678712  0.232516\n"
     ]
    }
   ],
   "source": [
    "val=np.random.rand(10,5)\n",
    "val[1,2]=np.nan\n",
    "df=pd.DataFrame(val)\n",
    "df=df.rename(columns={0:'A',1:'B',2:'C',3:'D',4:'E'})\n",
    "print(df)"
   ]
  },
  {
   "cell_type": "code",
   "execution_count": 105,
   "metadata": {},
   "outputs": [
    {
     "name": "stdout",
     "output_type": "stream",
     "text": [
      "<class 'pandas.core.frame.DataFrame'>\n",
      "RangeIndex: 10 entries, 0 to 9\n",
      "Data columns (total 5 columns):\n",
      " #   Column  Non-Null Count  Dtype  \n",
      "---  ------  --------------  -----  \n",
      " 0   A       10 non-null     float64\n",
      " 1   B       10 non-null     float64\n",
      " 2   C       9 non-null      float64\n",
      " 3   D       10 non-null     float64\n",
      " 4   E       10 non-null     float64\n",
      "dtypes: float64(5)\n",
      "memory usage: 532.0 bytes\n"
     ]
    },
    {
     "data": {
      "text/plain": [
       "None"
      ]
     },
     "metadata": {},
     "output_type": "display_data"
    }
   ],
   "source": [
    "#  Check the info of 'df'\n",
    "display(df.info())"
   ]
  },
  {
   "cell_type": "code",
   "execution_count": 106,
   "metadata": {},
   "outputs": [
    {
     "data": {
      "text/html": [
       "<div>\n",
       "<style scoped>\n",
       "    .dataframe tbody tr th:only-of-type {\n",
       "        vertical-align: middle;\n",
       "    }\n",
       "\n",
       "    .dataframe tbody tr th {\n",
       "        vertical-align: top;\n",
       "    }\n",
       "\n",
       "    .dataframe thead th {\n",
       "        text-align: right;\n",
       "    }\n",
       "</style>\n",
       "<table border=\"1\" class=\"dataframe\">\n",
       "  <thead>\n",
       "    <tr style=\"text-align: right;\">\n",
       "      <th></th>\n",
       "      <th>A</th>\n",
       "      <th>B</th>\n",
       "      <th>C</th>\n",
       "      <th>D</th>\n",
       "      <th>E</th>\n",
       "    </tr>\n",
       "  </thead>\n",
       "  <tbody>\n",
       "    <tr>\n",
       "      <th>count</th>\n",
       "      <td>10.000000</td>\n",
       "      <td>10.000000</td>\n",
       "      <td>9.000000</td>\n",
       "      <td>10.000000</td>\n",
       "      <td>10.000000</td>\n",
       "    </tr>\n",
       "    <tr>\n",
       "      <th>mean</th>\n",
       "      <td>0.426338</td>\n",
       "      <td>0.481641</td>\n",
       "      <td>0.402931</td>\n",
       "      <td>0.636190</td>\n",
       "      <td>0.364902</td>\n",
       "    </tr>\n",
       "    <tr>\n",
       "      <th>std</th>\n",
       "      <td>0.330961</td>\n",
       "      <td>0.255819</td>\n",
       "      <td>0.265553</td>\n",
       "      <td>0.280215</td>\n",
       "      <td>0.248455</td>\n",
       "    </tr>\n",
       "    <tr>\n",
       "      <th>min</th>\n",
       "      <td>0.028404</td>\n",
       "      <td>0.156048</td>\n",
       "      <td>0.020625</td>\n",
       "      <td>0.119028</td>\n",
       "      <td>0.030092</td>\n",
       "    </tr>\n",
       "    <tr>\n",
       "      <th>25%</th>\n",
       "      <td>0.145173</td>\n",
       "      <td>0.328143</td>\n",
       "      <td>0.265029</td>\n",
       "      <td>0.441960</td>\n",
       "      <td>0.214607</td>\n",
       "    </tr>\n",
       "    <tr>\n",
       "      <th>50%</th>\n",
       "      <td>0.368312</td>\n",
       "      <td>0.407001</td>\n",
       "      <td>0.327234</td>\n",
       "      <td>0.677758</td>\n",
       "      <td>0.290726</td>\n",
       "    </tr>\n",
       "    <tr>\n",
       "      <th>75%</th>\n",
       "      <td>0.688744</td>\n",
       "      <td>0.547127</td>\n",
       "      <td>0.476071</td>\n",
       "      <td>0.834302</td>\n",
       "      <td>0.551222</td>\n",
       "    </tr>\n",
       "    <tr>\n",
       "      <th>max</th>\n",
       "      <td>0.918555</td>\n",
       "      <td>0.945861</td>\n",
       "      <td>0.896663</td>\n",
       "      <td>0.984936</td>\n",
       "      <td>0.756969</td>\n",
       "    </tr>\n",
       "  </tbody>\n",
       "</table>\n",
       "</div>"
      ],
      "text/plain": [
       "               A          B         C          D          E\n",
       "count  10.000000  10.000000  9.000000  10.000000  10.000000\n",
       "mean    0.426338   0.481641  0.402931   0.636190   0.364902\n",
       "std     0.330961   0.255819  0.265553   0.280215   0.248455\n",
       "min     0.028404   0.156048  0.020625   0.119028   0.030092\n",
       "25%     0.145173   0.328143  0.265029   0.441960   0.214607\n",
       "50%     0.368312   0.407001  0.327234   0.677758   0.290726\n",
       "75%     0.688744   0.547127  0.476071   0.834302   0.551222\n",
       "max     0.918555   0.945861  0.896663   0.984936   0.756969"
      ]
     },
     "metadata": {},
     "output_type": "display_data"
    }
   ],
   "source": [
    "# Check the descriptive statistics of 'df'\n",
    "display(df.describe())"
   ]
  },
  {
   "cell_type": "code",
   "execution_count": 107,
   "metadata": {},
   "outputs": [
    {
     "name": "stdout",
     "output_type": "stream",
     "text": [
      "A    0.046822\n",
      "B    0.326573\n",
      "C    0.265029\n",
      "D    0.984936\n",
      "E    0.208637\n",
      "Name: 4, dtype: float64\n"
     ]
    }
   ],
   "source": [
    "# check the 4th index observation with 'loc' slicing operator.\n",
    "print(df.loc[4])"
   ]
  },
  {
   "cell_type": "code",
   "execution_count": 108,
   "metadata": {},
   "outputs": [
    {
     "name": "stdout",
     "output_type": "stream",
     "text": [
      "A    0\n",
      "B    0\n",
      "C    1\n",
      "D    0\n",
      "E    0\n",
      "dtype: int64\n"
     ]
    }
   ],
   "source": [
    "# Check the null values in your 'df'\n",
    "print(df.isnull().sum())"
   ]
  }
 ],
 "metadata": {
  "kernelspec": {
   "display_name": "Python 3",
   "language": "python",
   "name": "python3"
  },
  "language_info": {
   "codemirror_mode": {
    "name": "ipython",
    "version": 3
   },
   "file_extension": ".py",
   "mimetype": "text/x-python",
   "name": "python",
   "nbconvert_exporter": "python",
   "pygments_lexer": "ipython3",
   "version": "3.11.4"
  },
  "orig_nbformat": 4
 },
 "nbformat": 4,
 "nbformat_minor": 2
}
